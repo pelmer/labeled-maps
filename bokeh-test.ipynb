{
 "cells": [
  {
   "cell_type": "markdown",
   "id": "e40d292f",
   "metadata": {},
   "source": [
    "This is a test notebook to play around with Bokeh for making maps, using some instructions from [A Complete Guide to an Interactive Geographical Map using Python](https://towardsdatascience.com/a-complete-guide-to-an-interactive-geographical-map-using-python-f4c5197e23e0)\n",
    "\n",
    "Note that it references the use of shape files from [Natural Earth](https://www.naturalearthdata.com), but the downloads are broken on the site itself. There is poorly colored note at the top which points out that they can also be downloaded from a [separate AWS download area](https://gist.github.com/DanielJWood/b71237cc200831acf8e637c05ce2c375#file-natural_earth_s3_links-md)"
   ]
  },
  {
   "cell_type": "code",
   "execution_count": null,
   "id": "4eb29dcf",
   "metadata": {},
   "outputs": [],
   "source": []
  },
  {
   "cell_type": "code",
   "execution_count": null,
   "id": "8446c409",
   "metadata": {},
   "outputs": [],
   "source": []
  }
 ],
 "metadata": {
  "kernelspec": {
   "display_name": "Python 3 (ipykernel)",
   "language": "python",
   "name": "python3"
  },
  "language_info": {
   "codemirror_mode": {
    "name": "ipython",
    "version": 3
   },
   "file_extension": ".py",
   "mimetype": "text/x-python",
   "name": "python",
   "nbconvert_exporter": "python",
   "pygments_lexer": "ipython3",
   "version": "3.9.7"
  }
 },
 "nbformat": 4,
 "nbformat_minor": 5
}
